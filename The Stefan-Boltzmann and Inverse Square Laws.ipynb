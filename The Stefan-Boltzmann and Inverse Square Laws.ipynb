{
 "cells": [
  {
   "cell_type": "code",
   "execution_count": 1,
   "metadata": {},
   "outputs": [
    {
     "data": {
      "text/html": [
       "<style>\n",
       "table {\n",
       "#     float: left;\n",
       "    display: inline-block;\n",
       "}\n",
       "</style>\n"
      ],
      "text/plain": [
       "<IPython.core.display.HTML object>"
      ]
     },
     "metadata": {},
     "output_type": "display_data"
    }
   ],
   "source": [
    "%%html\n",
    "<style>\n",
    "table {\n",
    "#     float: left;\n",
    "    display: inline-block;\n",
    "}\n",
    "</style>"
   ]
  },
  {
   "attachments": {},
   "cell_type": "markdown",
   "metadata": {},
   "source": [
    "# Experiment 243: The Stefan-Boltzmann and Inverse Square Laws\n",
    "Aim: Confirm the inverse square and Stefan-Boltzmann laws of radiation\n",
    "\n",
    "## Part 1: The Inverse Square Law\n",
    "\n",
    "### Ambient Readings\n",
    "To measure the radiation ambience of the setup, the values from the radiation sensor are taken at varying distance intervals from the lamp. The mean ambience will be the reference ambience level to subtract from measurements taken.\n",
    "\n",
    "| Reading 1 @ 10cm | Reading 2 @ 20cm | Reading 3 @ 30cm | Reading 4 @ 40cm | Reading 5 @ 50cm | Mean Ambience |\n",
    "| ----------------:| ----------------:| ----------------:| ----------------:| ----------------:| -------------:|\n",
    "| 0.3mV            | 0.3mV            | 0.3mV            | 0.4mV            | 0.4mV            | 0.34mV        |\n",
    "\n",
    "\n",
    "The radiation sensor is used to measure the radiation value of the lamp at varying distances, x.\n",
    "\n",
    "## Lamp and Sensor Readings\n",
    "\n",
    "$x = 8.0cm; 1/x^2 = 0.0156$\n",
    "\n",
    "| Sensor Reading | Sensor Reading - Ambient |\n",
    "|----------------|--------------------------|\n",
    "| 8.6mV          | 8.26mV                   |\n",
    "| 8.6mV          | 8.16mV                   |\n",
    "| 8.5mV          | 8.16mV                   |\n",
    "\n",
    "$x=9.0cm, 1/x^2 =0.01235$\n",
    "\n",
    "| Sensor Reading | Sensor Reading - Ambient |\n",
    "|----------------|--------------------------|\n",
    "| 7.0mV          | 6.66mV                   |\n",
    "| 7.2mV          | 6.86mV                   |\n",
    "| 7.1mV          | 6.76mV                   |\n",
    "\n",
    "Average radiation level = 6.76mV\n",
    "\n",
    "\n",
    "$x=10.0cm , 1/x^2 =0.01000$\n",
    "\n",
    "| Sensor Reading | Sensor Reading - Ambient |\n",
    "|----------------|--------------------------|\n",
    "| 6.0mV          | 5.66mV                   |\n",
    "| 5.9mV          | 5.56mV                   |\n",
    "| 5.9mV          | 5.56mV                   |\n",
    "\n",
    "Average radiation level = 5.59mV\n",
    "\n",
    "\n",
    "$x=12.0cm , 1/x^2 =0.00694$\n",
    "\n",
    "| Sensor Reading | Sensor Reading - Ambient |\n",
    "|----------------|--------------------------|\n",
    "| 4.2mV          | 3.86mV                   |\n",
    "| 4.2mV          | 3.86mV                   |\n",
    "| 4.2mV          | 3.86mV                   |\n",
    "\n",
    "Average radiation level = 3.86mV\n",
    "\n",
    "\n",
    "$x=14.0cm , 1/x^2 =0.00510$\n",
    "\n",
    "| Sensor Reading | Sensor Reading - Ambient |\n",
    "|----------------|--------------------------|\n",
    "| 3.1mV          | 2.76mV                   |\n",
    "| 3.1mV          | 2.76mV                   |\n",
    "| 3.1mV          | 2.76mV                   |\n",
    "\n",
    "Average radiation level = 2.76mV\n",
    "\n",
    "\n",
    "$x=16.0cm , 1/x^2 =0.00391$\n",
    "\n",
    "| Sensor Reading | Sensor Reading - Ambient |\n",
    "|----------------|--------------------------|\n",
    "| 2.5mV          | 2.16mV                   |\n",
    "| 2.5mV          | 1.96mV                   |\n",
    "| 2.5mV          | 2.16mV                   |\n",
    "\n",
    "Average radiation level = 2.09mV\n",
    "\n",
    "\n",
    "$x=18.0cm , 1/x^2 =0.00309$\n",
    "\n",
    "| Sensor Reading | Sensor Reading - Ambient |\n",
    "|----------------|--------------------------|\n",
    "| 1.7mV          | 1.36mV                   |\n",
    "| 1.7mV          | 1.36mV                   |\n",
    "| 1.7mV          | 1.36mV                   |\n",
    "\n",
    "Average radiation level = 1.36mV\n",
    "\n",
    "\n",
    "$x=20.0cm , 1/x^2 =0.00250$\n",
    "\n",
    "| Sensor Reading | Sensor Reading - Ambient |\n",
    "|----------------|--------------------------|\n",
    "| 1.4mV          | 1.06mV                   |\n",
    "| 1.6mV          | 1.26mV                   |\n",
    "| 1.6mV          | 1.26mV                   |\n",
    "\n",
    "Average radiation level = 1.19mV\n",
    "\n",
    "\n",
    "$x=25.0cm , 1/x^2 =0.00160$\n",
    "\n",
    "| Sensor Reading | Sensor Reading - Ambient |\n",
    "|----------------|--------------------------|\n",
    "| 1.0mV          | 0.66mV                   |\n",
    "| 1.0mV          | 0.66mV                   |\n",
    "| 1.0mV          | 0.66mV                   |\n",
    "\n",
    "Average radiation level = 0.293mV\n",
    "\n",
    "\n",
    "$x=40.0cm , 1/x^2 =0.00063$\n",
    "\n",
    "| Sensor Reading | Sensor Reading - Ambient |\n",
    "|----------------|--------------------------|\n",
    "| 0.2mV          | -0.14mV                  |\n",
    "| 0.2mV          | -0.14mV                  |\n",
    "| 0.2mV          | -0.14mV                  |\n",
    "\n",
    "Average radiation level = -0.14mV\n",
    "\n",
    "\n",
    "$x=50.0cm , 1/x^2 =0.00040$\n",
    "\n",
    "| Sensor Reading | Sensor Reading - Ambient |\n",
    "|----------------|--------------------------|\n",
    "| 0mV            | -0.34mV                  |\n",
    "| 0mV            | -0.34mV                  |\n",
    "| 0mV            | -0.34mV                  |\n",
    "\n",
    "Average radiation level = -0.34mV\n"
   ]
  },
  {
   "cell_type": "markdown",
   "metadata": {},
   "source": [
    "### Graph of Radiation Against Distance\n",
    "Note graph only includes radiation levels greater than 1mV to avoid inaccurate data."
   ]
  },
  {
   "cell_type": "code",
   "execution_count": 7,
   "metadata": {},
   "outputs": [
    {
     "data": {
      "image/png": "[encoded data removed]",
      "text/plain": [
       "<Figure size 432x288 with 1 Axes>"
      ]
     },
     "metadata": {
      "needs_background": "light"
     },
     "output_type": "display_data"
    }
   ],
   "source": [
    "import matplotlib.pyplot as plt\n",
    "import numpy as np\n",
    "\n",
    "#distance_all=np.array([8, 9, 10, 12, 14, 16, 18, 20, 25, 40, 50])\n",
    "#radiation_all=np.array([8.19, 6.76, 5.59, 2.86, 2.76, 2.09, 1.36, 1.19, 0.293, -0.14, -0.34])\n",
    "\n",
    "radiation=np.array([8.19, 6.76, 5.59, 2.86, 2.76, 2.09, 1.36, 1.19])\n",
    "distance=np.array([8, 9, 10, 12, 14, 16, 18, 20])\n",
    "\n",
    "#plt.plot(distance_all, radiation_all, linestyle=\"-\", marker=\"x\", color=\"red\")\n",
    "plt.plot(distance, radiation, linestyle=\"-\", marker=\"x\", color=\"red\")\n",
    "\n",
    "plt.xlabel(\"Distance, $cm$\")\n",
    "plt.ylabel(\"Radiation, $mV$\")\n",
    "\n",
    "plt.title(\"Distance against Radiation\")\n",
    "\n",
    "plt.show()"
   ]
  },
  {
   "cell_type": "markdown",
   "metadata": {},
   "source": [
    "### Graph of Radiation Against $1/x^2$"
   ]
  },
  {
   "cell_type": "code",
   "execution_count": 6,
   "metadata": {},
   "outputs": [
    {
     "data": {
      "image/png": "[encoded data removed]",
      "text/plain": [
       "<Figure size 432x288 with 1 Axes>"
      ]
     },
     "metadata": {
      "needs_background": "light"
     },
     "output_type": "display_data"
    }
   ],
   "source": [
    "import matplotlib.pyplot as plt\n",
    "import numpy as np\n",
    "\n",
    "#distance_all=np.array([8, 9, 10, 12, 14, 16, 18, 20, 25, 40, 50])\n",
    "#radiation_all=np.array([8.19, 6.76, 5.59, 2.86, 2.76, 2.09, 1.36, 1.19, 0.293, -0.14, -0.34])\n",
    "\n",
    "radiation=np.array([8.19, 6.76, 5.59, 2.86, 2.76, 2.09, 1.36, 1.19])\n",
    "distance=np.array([8, 9, 10, 12, 14, 16, 18, 20])\n",
    "\n",
    "inversesquare=1/(distance**2)\n",
    "\n",
    "plt.plot(inversesquare, radiation, linestyle=\"-\", marker=\"x\", color=\"blue\")\n",
    "\n",
    "plt.xlabel(\"$1/x^2$\")\n",
    "plt.ylabel(\"Radiation, $mV$\")\n",
    "\n",
    "plt.title(\"Distance against Radiation\")\n",
    "\n",
    "plt.show()"
   ]
  },
  {
   "cell_type": "markdown",
   "metadata": {},
   "source": [
    "Note: We see that the second plot (Radiation vs 1/x^2) is the most linear compared to the first plot. The fifth point breaks the linearity and has a lower radiation than expected. Perhaps the reading was done incorrectly. The fifth point appears to be undervalued by 1mV, this shows that even if we apply uncertainty we will not satisfy in making the plot be closer to linear. It would have been appropriate to redo that measurement however, we did not notice such a large error until after the experiment. It would be better to plot the graph as we were obtaining data from the experiment to make sure we can easily go back and reobtain data."
   ]
  },
  {
   "cell_type": "markdown",
   "metadata": {},
   "source": [
    "Our findings show the inverse square law – radiant energy per unit area decreases as the square of the distance from the source decreases. We know from our plot that this is indeed the case. "
   ]
  },
  {
   "cell_type": "markdown",
   "metadata": {},
   "source": [
    "The Stefan-Boltzmann lamp is not a true point source of radiation. This is because most of the radiation was lost as it is radiating outwards and being mostly lost in the outer environment rather than being directly radiated towards the point source. However, the amount of radiation the radiation sensor was reading would still hold the inverse square law. "
   ]
  },
  {
   "cell_type": "code",
   "execution_count": null,
   "metadata": {},
   "outputs": [],
   "source": []
  }
 ],
 "metadata": {
  "kernelspec": {
   "display_name": "lab",
   "language": "python",
   "name": "lab"
  },
  "language_info": {
   "codemirror_mode": {
    "name": "ipython",
    "version": 3
   },
   "file_extension": ".py",
   "mimetype": "text/x-python",
   "name": "python",
   "nbconvert_exporter": "python",
   "pygments_lexer": "ipython3",
   "version": "3.7.3"
  }
 },
 "nbformat": 4,
 "nbformat_minor": 2
}
